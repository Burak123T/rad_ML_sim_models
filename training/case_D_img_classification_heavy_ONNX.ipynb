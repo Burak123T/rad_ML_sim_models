{
 "cells": [
  {
   "cell_type": "code",
   "execution_count": 1,
   "metadata": {
    "executionInfo": {
     "elapsed": 25,
     "status": "ok",
     "timestamp": 1744552823160,
     "user": {
      "displayName": "Burak Özdemir",
      "userId": "17976192270088828496"
     },
     "user_tz": -120
    },
    "id": "cf930d91-1adf-4fbc-8f33-5bd678a3837a"
   },
   "outputs": [],
   "source": [
    "import numpy as np\n",
    "import matplotlib.pyplot as plt\n",
    "import os\n",
    "import cv2"
   ]
  },
  {
   "cell_type": "code",
   "execution_count": null,
   "metadata": {
    "colab": {
     "base_uri": "https://localhost:8080/"
    },
    "executionInfo": {
     "elapsed": 27670,
     "status": "ok",
     "timestamp": 1744552891249,
     "user": {
      "displayName": "Burak Özdemir",
      "userId": "17976192270088828496"
     },
     "user_tz": -120
    },
    "id": "C5oZCjsGXVlW",
    "outputId": "4750c8f7-3e5c-4adb-a87a-e4c277cda8b0"
   },
   "outputs": [],
   "source": [
    "from google.colab import drive\n",
    "drive.mount('/content/drive')"
   ]
  },
  {
   "cell_type": "code",
   "execution_count": null,
   "metadata": {
    "colab": {
     "base_uri": "https://localhost:8080/"
    },
    "executionInfo": {
     "elapsed": 4,
     "status": "ok",
     "timestamp": 1743431505955,
     "user": {
      "displayName": "Burak Özdemir",
      "userId": "17976192270088828496"
     },
     "user_tz": -120
    },
    "id": "D4vAjDHCXvDz",
    "outputId": "12461204-a7ab-4d86-ebd8-1eff75c51d41"
   },
   "outputs": [],
   "source": [
    "model_save_dir = \"/content/drive/My Drive/my_keras_models/eurosat_models/\"\n",
    "\n",
    "# Create the directory if it doesn't exist\n",
    "# exist_ok=True prevents error if directory already exists\n",
    "os.makedirs(model_save_dir, exist_ok=True)\n",
    "\n",
    "model_filepath = os.path.join(model_save_dir, \"eurosat_RGB_img_classification\")\n",
    "\n",
    "print(f\"Model filepath for saving new models: {model_filepath}\")"
   ]
  },
  {
   "cell_type": "code",
   "execution_count": null,
   "metadata": {
    "colab": {
     "base_uri": "https://localhost:8080/"
    },
    "collapsed": true,
    "executionInfo": {
     "elapsed": 151942,
     "status": "ok",
     "timestamp": 1743429866803,
     "user": {
      "displayName": "Burak Özdemir",
      "userId": "17976192270088828496"
     },
     "user_tz": -120
    },
    "id": "VTR4kKzYI_vQ",
    "outputId": "734fc125-5b67-442d-f06b-f794a0083e31"
   },
   "outputs": [],
   "source": [
    "!wget https://zenodo.org/records/7711810/files/EuroSAT_RGB.zip?download=1\n",
    "!mv \"EuroSAT_RGB.zip?download=1\" \"EuroSAT_RGB.zip\"\n",
    "!unzip \"EuroSAT_RGB.zip\""
   ]
  },
  {
   "cell_type": "code",
   "execution_count": null,
   "metadata": {
    "colab": {
     "base_uri": "https://localhost:8080/"
    },
    "executionInfo": {
     "elapsed": 13,
     "status": "ok",
     "timestamp": 1743431508726,
     "user": {
      "displayName": "Burak Özdemir",
      "userId": "17976192270088828496"
     },
     "user_tz": -120
    },
    "id": "7fa8378b-cdbc-4f2e-81b4-2d1a3a05ac6b",
    "outputId": "b73e523d-375a-462b-f4af-f12eaf41b905"
   },
   "outputs": [],
   "source": [
    "DATA_DIR = \"EuroSAT_RGB\"\n",
    "CATEGORIES = os.listdir(DATA_DIR)\n",
    "\n",
    "print(\"All categories:\")\n",
    "for cat in CATEGORIES:\n",
    "    print(\"\\t - \" + cat)"
   ]
  },
  {
   "cell_type": "code",
   "execution_count": null,
   "metadata": {
    "colab": {
     "base_uri": "https://localhost:8080/"
    },
    "collapsed": true,
    "executionInfo": {
     "elapsed": 8746,
     "status": "ok",
     "timestamp": 1743431519403,
     "user": {
      "displayName": "Burak Özdemir",
      "userId": "17976192270088828496"
     },
     "user_tz": -120
    },
    "id": "d926fe0e-1d70-415f-9e56-326f5e04ef18",
    "outputId": "5d3a7493-43c2-47df-c4d5-180495e04655"
   },
   "outputs": [],
   "source": [
    "training_data = []\n",
    "\n",
    "# Redefining category order to fix wrong data classification\n",
    "CATEGORIES = [\n",
    "    'AnnualCrop',\n",
    "    'Forest',\n",
    "    'HerbaceousVegetation',\n",
    "    'Highway',\n",
    "    'Industrial',\n",
    "    'Pasture',\n",
    "    'PermanentCrop',\n",
    "    'Residential',\n",
    "    'River',\n",
    "    'SeaLake'\n",
    "]\n",
    "\n",
    "def preprocess_im_array(img_array):\n",
    "    img_array = img_array.astype(np.float32)\n",
    "    mean = np.array([0.485, 0.456, 0.406], dtype=np.float32)\n",
    "    stddev = np.array([0.229, 0.224, 0.225], dtype=np.float32)\n",
    "    normalized_image = (img_array - mean) / stddev\n",
    "    return normalized_image\n",
    "\n",
    "print(\"All categories re-ordered:\")\n",
    "for cat in CATEGORIES:\n",
    "    print(\"\\t - \" + cat)\n",
    "\n",
    "def create():\n",
    "    for category in CATEGORIES:\n",
    "        path = os.path.join(DATA_DIR, category)\n",
    "        class_num = CATEGORIES.index(category)\n",
    "        for image in os.listdir(path):\n",
    "            try:\n",
    "                image_path = os.path.join(path,image)\n",
    "                resized_image_array = cv2.resize(cv2.imread(image_path), (64, 64))\n",
    "                _img_array = np.array(resized_image_array)\n",
    "                final_img_array = preprocess_im_array(_img_array)\n",
    "                print(\"Pre-processed image\")\n",
    "                training_data.append([final_img_array, class_num])\n",
    "            except FileNotFoundError:\n",
    "                print(f\"File not found: {os.path.join(path, image)}\")\n",
    "            except cv2.error as e:\n",
    "                print(f\"OpenCV error processing {os.path.join(path, image)}: {e}\")\n",
    "            except Exception as e:\n",
    "                print(f\"An unexpected error occured processing {os.path.join(path,image)}: {e}\")\n",
    "\n",
    "create()\n",
    "\n",
    "print(\"Length of training data: \" + str(len(training_data)))"
   ]
  },
  {
   "cell_type": "code",
   "execution_count": null,
   "metadata": {
    "colab": {
     "base_uri": "https://localhost:8080/"
    },
    "executionInfo": {
     "elapsed": 507,
     "status": "ok",
     "timestamp": 1743431524481,
     "user": {
      "displayName": "Burak Özdemir",
      "userId": "17976192270088828496"
     },
     "user_tz": -120
    },
    "id": "eb6cee79-52f4-400d-b5db-f93806bbbb41",
    "outputId": "ada29cf6-7efb-4c86-c01d-b1879b154b5d"
   },
   "outputs": [],
   "source": [
    "# this step prepares the data from a list of (image, label) pairs into the\n",
    "# format that TensorFlow/Keras can efficiently process for training my model.\n",
    "\n",
    "Feats = []\n",
    "Labels = []\n",
    "\n",
    "for feats, label in training_data:\n",
    "    Feats.append(feats)\n",
    "    Labels.append(label)\n",
    "\n",
    "Feats = np.array(Feats)\n",
    "Labels = np.array(Labels)\n",
    "\n",
    "print(\"Features and labels converted to NumPy arrays (for TensorFlow/Keras)\")"
   ]
  },
  {
   "cell_type": "code",
   "execution_count": null,
   "metadata": {
    "colab": {
     "base_uri": "https://localhost:8080/"
    },
    "executionInfo": {
     "elapsed": 6137,
     "status": "ok",
     "timestamp": 1743431532583,
     "user": {
      "displayName": "Burak Özdemir",
      "userId": "17976192270088828496"
     },
     "user_tz": -120
    },
    "id": "7bb4562a-406b-498c-a0b4-4196610ca3c2",
    "outputId": "88e82000-7657-4985-e7a3-23e7d4e9fa01"
   },
   "outputs": [],
   "source": [
    "from sklearn.model_selection import train_test_split\n",
    "import tensorflow as tf\n",
    "\n",
    "X_train, X_test, Y_train, Y_test = train_test_split(Feats, Labels, test_size=0.2, random_state=42)\n",
    "print(\"Splitting data success\")\n",
    "\n",
    "X_train = X_train / 255.0\n",
    "X_test = X_test / 255.0\n",
    "print(\"Normalizing pixels success\")"
   ]
  },
  {
   "cell_type": "code",
   "execution_count": null,
   "metadata": {
    "colab": {
     "base_uri": "https://localhost:8080/"
    },
    "executionInfo": {
     "elapsed": 1178,
     "status": "ok",
     "timestamp": 1743431535848,
     "user": {
      "displayName": "Burak Özdemir",
      "userId": "17976192270088828496"
     },
     "user_tz": -120
    },
    "id": "7a19697f-9e52-46fe-9043-e1ed500df301",
    "outputId": "7f5e25ca-c058-4fc4-c652-ea249c7c328f"
   },
   "outputs": [],
   "source": [
    "import tensorflow as tf\n",
    "from tensorflow.keras import layers, models\n",
    "\n",
    "model = models.Sequential([\n",
    "    layers.Conv2D(32, (3, 3), activation='relu', input_shape=(64, 64, 3)),\n",
    "    layers.MaxPooling2D((2, 2)),\n",
    "    layers.Conv2D(64, (3, 3), activation='relu'),\n",
    "    layers.MaxPooling2D((2, 2)),\n",
    "    layers.Flatten(),\n",
    "    layers.Dense(128, activation='relu'),\n",
    "    layers.Dense(len(CATEGORIES), activation='softmax')\n",
    "])\n",
    "\n",
    "model.compile(optimizer='adam',\n",
    "              loss='sparse_categorical_crossentropy',\n",
    "              metrics=['accuracy'])\n",
    "\n",
    "print(\"Built model\")"
   ]
  },
  {
   "cell_type": "code",
   "execution_count": null,
   "metadata": {
    "colab": {
     "base_uri": "https://localhost:8080/"
    },
    "executionInfo": {
     "elapsed": 31712,
     "status": "ok",
     "timestamp": 1743431569939,
     "user": {
      "displayName": "Burak Özdemir",
      "userId": "17976192270088828496"
     },
     "user_tz": -120
    },
    "id": "2b0e498b-925f-4b8e-b2dd-bd3fe07f5cc4",
    "outputId": "2985975e-6d9b-4952-ddf2-4ef23275e0fd"
   },
   "outputs": [],
   "source": [
    "history = model.fit(X_train, Y_train, epochs=5, validation_data=(X_test, Y_test))\n",
    "print(\"Model trained!\")"
   ]
  },
  {
   "cell_type": "code",
   "execution_count": null,
   "metadata": {
    "colab": {
     "base_uri": "https://localhost:8080/"
    },
    "executionInfo": {
     "elapsed": 605,
     "status": "ok",
     "timestamp": 1743431581410,
     "user": {
      "displayName": "Burak Özdemir",
      "userId": "17976192270088828496"
     },
     "user_tz": -120
    },
    "id": "f25422a8-bb01-456b-a56b-73866d6fa456",
    "outputId": "0ade6f63-30fc-4c03-fc29-5c590ee0795d"
   },
   "outputs": [],
   "source": [
    "model.export(model_filepath)\n",
    "print(f\"Model saved to: {model_filepath}\")"
   ]
  },
  {
   "cell_type": "code",
   "execution_count": null,
   "metadata": {
    "colab": {
     "base_uri": "https://localhost:8080/"
    },
    "collapsed": true,
    "executionInfo": {
     "elapsed": 2367,
     "status": "ok",
     "timestamp": 1743430840034,
     "user": {
      "displayName": "Burak Özdemir",
      "userId": "17976192270088828496"
     },
     "user_tz": -120
    },
    "id": "3JQP1C4GiWpI",
    "outputId": "d8e07b56-461e-4abf-960f-cc78a0953761"
   },
   "outputs": [],
   "source": [
    "!pip install --upgrade tf2onnx"
   ]
  },
  {
   "cell_type": "code",
   "execution_count": null,
   "metadata": {
    "colab": {
     "base_uri": "https://localhost:8080/"
    },
    "executionInfo": {
     "elapsed": 7479,
     "status": "ok",
     "timestamp": 1743431592770,
     "user": {
      "displayName": "Burak Özdemir",
      "userId": "17976192270088828496"
     },
     "user_tz": -120
    },
    "id": "xvbQQuOXjS5Z",
    "outputId": "03dc39a5-c515-411f-9b51-308ebb34fcd2"
   },
   "outputs": [],
   "source": [
    "import tf2onnx\n",
    "import numpy as np\n",
    "import os\n",
    "\n",
    "# Get the tf2onnx installation directory\n",
    "tf2onnx_dir = os.path.dirname(tf2onnx.__file__)\n",
    "tfonnx_path = os.path.join(tf2onnx_dir, \"tfonnx.py\")\n",
    "\n",
    "print(f\"Attempting to patch tf2onnx file at: {tfonnx_path}\")\n",
    "\n",
    "try:\n",
    "    with open(tfonnx_path, 'r') as f:\n",
    "        content = f.read()\n",
    "\n",
    "    # Replace np.cast with np.asarray in the specific function\n",
    "    updated_content = content.replace(\"np.cast\", \"np.asarray\")\n",
    "\n",
    "    with open(tfonnx_path, 'w') as f:\n",
    "        f.write(updated_content)\n",
    "\n",
    "    print(\"Successfully attempted to patch tf2onnx.\")\n",
    "\n",
    "except Exception as e:\n",
    "    print(f\"An error occurred while trying to patch tf2onnx: {e}\")\n",
    "\n",
    "# Now, try the ONNX conversion again\n",
    "!python -m tf2onnx.convert --saved-model /content/drive/MyDrive/my_keras_models/eurosat_models/eurosat_RGB_img_classification --output EuroSat_RGB_prep.onnx --opset 15"
   ]
  }
 ],
 "metadata": {
  "accelerator": "GPU",
  "colab": {
   "authorship_tag": "ABX9TyPIGKCuGBHPD4lg5l+uyqil",
   "gpuType": "T4",
   "provenance": []
  },
  "kernelspec": {
   "display_name": "Python 3",
   "name": "python3"
  },
  "language_info": {
   "name": "python"
  }
 },
 "nbformat": 4,
 "nbformat_minor": 0
}
